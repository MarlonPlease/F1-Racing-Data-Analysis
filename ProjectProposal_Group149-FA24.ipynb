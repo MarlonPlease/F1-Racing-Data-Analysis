{
 "cells": [
  {
   "cell_type": "markdown",
   "metadata": {},
   "source": [
    "# COGS 108 - Project Proposal"
   ]
  },
  {
   "cell_type": "markdown",
   "metadata": {},
   "source": [
    "# Names\n",
    "\n",
    "- Marlon Garay\n",
    "- Tyler Lee\n",
    "- Darief Maes\n",
    "- Kaustubh Paliwal"
   ]
  },
  {
   "cell_type": "markdown",
   "metadata": {},
   "source": [
    "# Research Question"
   ]
  },
  {
   "cell_type": "markdown",
   "metadata": {},
   "source": [
    "Which starting grid positions have the highest likelihood of winning a race on each Formula 1 circuit, and how does this vary across different track types and rainy conditions?\n",
    "\n",
    "Variables to Measure\n",
    "\n",
    "- Grid Position: The starting position of each driver\n",
    "- Track/Circuit: Individual circuit characteristics (e.g., length, layout)\n",
    "- Race Outcome: Final race position of drivers\n",
    "- Track Type: Street versus permanent circuit (as categorically quantified by F1)\n",
    "- Rainy Conditions: Dry or rain\n",
    "- Lap 1 Leader: Person that led the race after lap 1"
   ]
  },
  {
   "cell_type": "markdown",
   "metadata": {},
   "source": [
    "## Background and Prior Work"
   ]
  },
  {
   "cell_type": "markdown",
   "metadata": {},
   "source": [
    "Formula 1 (F1) is a premier motorsports competition where the world’s top drivers and automotive manufacturers compete across a series of races on diverse tracks worldwide, vying for the championship title. The starting grid position for each driver is determined in a Saturday qualifying session held the day before the race. Starting grid position in Formula 1 (F1) undoubtedly affects the likelihood of winning a race. Common sense would indicate that starting in pole (first) position would give you the highest likelihood to win the race. Since overtaking is a challenging task that can be amplified on certain circuits, starting in a higher grid position provides a large advantage over lower positions.\n",
    "\n",
    "However, this may not always be the case as, historically, only about 40% of race winners started in pole position<a name=\"cite_ref-1\"></a>[<sup>1</sup>](#cite_note-1). This is backed up by data revealing that there is a negative average difference between starting grid position and final race position<a name=\"cite_ref-2\"></a>[<sup>2</sup>](#cite_note-2). These observations contribute to our understanding of how starting grid position affects the probability of winning a race. There is, however, room to determine which position provides the largest advantage on each circuit which can help F1 teams come up with different strategies to optimize their chances at success.\n",
    "\n",
    "1. <a name=\"cite_note-1\"></a> [^](#cite_ref-1) What is Pole Position in Formula 1 & Does it Matter? *Sport Makers*. https://www.sportmakers.co.uk/f1/what-is-pole-position-in-formula-1-does-it-matter/\n",
    "2. <a name=\"cite_note-2\"></a> [^](#cite_ref-2) Sanghi, Miguel. (17 Jun 2022) How much does qualifying affect the actual race in Formula 1? *Bruin Sports Analytics* https://www.bruinsportsanalytics.com/post/formula1_qualifying"
   ]
  },
  {
   "cell_type": "markdown",
   "metadata": {},
   "source": [
    "# Hypothesis\n"
   ]
  },
  {
   "cell_type": "markdown",
   "metadata": {},
   "source": [
    "We hypothesize that the likelihood of winning a race is highest for drivers who start in the top two (or front row) grid positions and maintain the lead after the first lap, especially on circuits with restricted overtaking opportunities, like Monaco or the Hungaroring. Specifically, we expect that starting grid position, first-lap lead status, and circuit type (street vs. traditional) will interact to shape race outcomes: drivers in the front row will have a significant advantage on overtaking-limited circuits, whereas on high-speed circuits with more overtaking zones, the impact of starting position may be reduced, making the first-lap lead a more dynamic variable. Additionally, we predict that weather conditions (such as rain) will further amplify the advantage of starting in a top position or leading after the first lap, as difficult conditions make it challenging for those starting further back to gain positions."
   ]
  },
  {
   "cell_type": "markdown",
   "metadata": {},
   "source": [
    "# Data"
   ]
  },
  {
   "cell_type": "markdown",
   "metadata": {},
   "source": [
    "1\\. The ideal dataset to explore which starting grid position has the highest likelihood of winning a Formula 1 race, and how this varies across different track types and rainy conditions, should include race information such as race and circuit identifiers, race dates, and weather conditions on race day. It should also have the starting grid positions, driver details (including unique driver and team identifiers), and race outcomes like finishing positions and race winners. Key circuit characteristics, such as circuit type, length, number of laps, and altitude, would also be needed.\n",
    "\n",
    "  For the observations; we need observations have data to go atleast 10 years back, and to have as many observations. We would also need multiple observations for each starting position to be able to see the trends, and if there was rain.\n",
    "\n",
    "  We feel that a reliable weather organization should be the one with the collected weather information, while a reliable source for F1 information should be used for the F1 circuit data.\n",
    "\n",
    "  We feel that the data needs to be in a csv format as it is readable for pandas, but we also need to have csv files that include the date and time for the weather so that it can be easily combined with the dates on the F1 dataset to form 1 dataframe.\n",
    "\n",
    "2\\. After searching for real datasets related to Formula 1, I found several potential sources that could provide valuable information for my project. One useful dataset is available on Kaggle, titled “Formula 1 World Championship” which has F1 data from 1950 to 2024) (https://www.kaggle.com/datasets/rohanrao/formula-1-world-championship-1950-2020/data?select=results.csv). We also are using weather data from the \"Historical weather API\" (https://openweathermap.org/history).\n",
    "\n",
    "There are also multiple datasets for weather availiable which has information on weather based on latitude and longitude to integrate with our F1 Data"
   ]
  },
  {
   "cell_type": "markdown",
   "metadata": {},
   "source": [
    "# Ethics & Privacy"
   ]
  },
  {
   "cell_type": "markdown",
   "metadata": {},
   "source": [
    "Regarding terms of use, the F1 data we utilize is publicly available and adheres to licensing agreements. However, we will carefully review and comply with all terms of use specified by the data providers, such as Kaggle, to ensure compliance. We will avoid repurposing or redistributing the data in ways that could violate these terms and will limit our analysis to fair use for educational and analytical purposes.\n",
    "\n",
    "There are no privacy concerns or terms of use issues regarding the date. The data is public racing data made available on Kaggle. Thereby, we have to responsibly use the data without reselling or republishing it. It is unlikely that the dataset is bias, as it just shows the recoded racing results and grid position. Based on this, we can pretty confidently say there is no bias as the sole type of data is recorded racing data. However, before working on our problem, we will ensure that there is no bias involved in the dataset based on team or driver. Using that, we can try to eliminate team and driver bias, allowing us to make objective conclusions.\n",
    "\n",
    "Besides team and driver bias, no other issues seem to be apparent based on our data set, as it is purely recording race results. Yet, if we do find something, we will figure out how it impacts our data. We can look back at a particular race to view if anything notable happened, skewing the results."
   ]
  },
  {
   "cell_type": "markdown",
   "metadata": {},
   "source": [
    "# Team Expectations "
   ]
  },
  {
   "cell_type": "markdown",
   "metadata": {},
   "source": [
    "* Communication: Discord. Check regularly to ensure smooth communications. Let everyone know if you can't make a meeting. Texting as a backup to urgently contact someone.\n",
    "* Tone: Don't be negative. Be open to discussion.\n",
    "* Decision Making: Make sure everyone agrees and understands a procedure before moving on.\n",
    "* Tasks: Everyone does a bit of everything. Finish tasks the day before due date to ensure completion and allow time to edit. Complete assigned tasks.\n",
    "* Plan: Meet Mondays/Tuesdays 5 PM. Keep meeting summaries (posted Discord)."
   ]
  },
  {
   "cell_type": "markdown",
   "metadata": {},
   "source": [
    "# Project Timeline Proposal"
   ]
  },
  {
   "cell_type": "markdown",
   "metadata": {},
   "source": [
    "| Meeting Date | Meeting Time | Completed Before Meeting | Discuss at Meeting |\n",
    "|--------------|--------------|--------------------------|--------------------|\n",
    "| 10/28        | 5 PM        | Review COGS 108 project guidelines; brainstorm potential research questions related to F1 race dynamics | Decide on the final project question: \"What grid position, first-lap lead, and weather conditions most influence race outcomes?\" Formulate a hypothesis regarding the expected outcomes; assign preliminary research tasks to explore relevant factors. |\n",
    "| 11/4         | 5 PM        | Conduct background research on the impact of qualifying sessions, grid positions, first-lap performance, and historical race data | Review background findings; discuss the structure of the data and identify key variables (e.g., qualifying position, first-lap leader, circuit type, weather conditions) that will be included in the analysis; explore ethical considerations related to data use. |\n",
    "| 11/11        | 5 PM        | Edit and finalize project proposal; initiate a search for datasets focusing on qualifying results, race outcomes, and environmental factors | Confirm datasets from F1 kaggle dataset for analysis; assign initial data wrangling tasks; identify potential biases in the datasets, such as underrepresentation of certain circuits or conditions; discuss any additional resources needed for data manipulation. |\n",
    "| 11/18        | 5 PM        | Begin importing and cleaning datasets; perform preliminary exploratory data analysis (EDA) to identify trends regarding how grid position and first-lap leads correlate with finishing positions | Review and finalize data wrangling and EDA findings; discuss the detailed analysis plan, including the statistical methods to be used (e.g., regression analysis, correlation coefficients); define how we will quantify the impact of weather conditions. |\n",
    "| 11/25        | 5 PM        | Complete data wrangling and detailed EDA; summarize insights on the relationship between grid positions, first-lap leads, weather conditions, and finishing positions | Finalize analysis methods; focus on how we will measure the impact of each variable, particularly considering how to account for circuit characteristics; address any additional tools or resources needed for advanced analysis, such as machine learning techniques if needed. |\n",
    "| 12/2         | 5 PM        | Complete analysis of the factors influencing race outcomes; draft preliminary findings that illustrate correlations and significant impacts of identified variables | Review initial analysis results, ensuring clear visualizations are prepared; revise the analysis if necessary and assign report drafting responsibilities for sections on methodology and results. |\n",
    "| 12/9         | 5 PM        | Refine analysis and ensure clarity of findings; complete drafts for results, discussion, and conclusions sections of the report | Review the full project draft for coherence and clarity; edit and finalize all sections, ensuring proper citations, clear visualizations, and thorough data interpretation. |\n",
    "| 12/11        | 11:59 PM Before Deadline | N/A | Submit final project report and complete group surveys; reflect on the project process and any lessons learned for future research; discuss potential areas for future exploration based on our findings. |\n",
    "\n",
    "This table was partially generated by GPT-4, using the course syllabus and the checkpoints, our goals for the project and timeline, and was used to help make our general timeline ideas more detailed and thorough per week."
   ]
  }
 ],
 "metadata": {
  "kernelspec": {
   "display_name": "Python 3 (ipykernel)",
   "language": "python",
   "name": "python3"
  },
  "language_info": {
   "codemirror_mode": {
    "name": "ipython",
    "version": 3
   },
   "file_extension": ".py",
   "mimetype": "text/x-python",
   "name": "python",
   "nbconvert_exporter": "python",
   "pygments_lexer": "ipython3",
   "version": "3.11.9"
  }
 },
 "nbformat": 4,
 "nbformat_minor": 4
}
